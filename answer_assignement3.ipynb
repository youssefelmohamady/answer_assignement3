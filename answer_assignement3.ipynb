{
 "cells": [
  {
   "cell_type": "markdown",
   "metadata": {},
   "source": [
    "# Assignment 3"
   ]
  },
  {
   "cell_type": "markdown",
   "metadata": {},
   "source": [
    "### write a  function to check whether a number is divisible by another number."
   ]
  },
  {
   "cell_type": "code",
   "execution_count": 10,
   "metadata": {},
   "outputs": [
    {
     "name": "stdout",
     "output_type": "stream",
     "text": [
      "true\n"
     ]
    }
   ],
   "source": [
    "def div(x,y):\n",
    "    if x % y ==0 :\n",
    "        print('true')\n",
    "    else:\n",
    "        print('false')\n",
    "div(9,3)"
   ]
  },
  {
   "cell_type": "code",
   "execution_count": null,
   "metadata": {},
   "outputs": [],
   "source": [
    "\n"
   ]
  },
  {
   "cell_type": "markdown",
   "metadata": {},
   "source": [
    "### Write a function to count the number 4 in a given list."
   ]
  },
  {
   "cell_type": "code",
   "execution_count": 17,
   "metadata": {},
   "outputs": [
    {
     "data": {
      "text/plain": [
       "4"
      ]
     },
     "execution_count": 17,
     "metadata": {},
     "output_type": "execute_result"
    }
   ],
   "source": [
    "def name():\n",
    "    \n",
    "    a=[1,2,3,4]\n",
    "    \n",
    "    \n",
    "    \n",
    "    return 4\n",
    "name()"
   ]
  },
  {
   "cell_type": "markdown",
   "metadata": {},
   "source": [
    "### write a function to find the maximum and minimum numbers from a sequence of numbers."
   ]
  },
  {
   "cell_type": "code",
   "execution_count": 3,
   "metadata": {},
   "outputs": [
    {
     "name": "stdout",
     "output_type": "stream",
     "text": [
      "the biggest number is : 8\n",
      "the smallest number is : 1\n"
     ]
    }
   ],
   "source": [
    "x=(1,2,3,4,5,6,7,8)\n",
    "\n",
    "\n",
    "print('the biggest number is :', max(x))\n",
    "print('the smallest number is :', min(x))\n"
   ]
  },
  {
   "cell_type": "markdown",
   "metadata": {},
   "source": [
    "### Write a Python function that takes two lists and returns True if they have at least one common member."
   ]
  },
  {
   "cell_type": "code",
   "execution_count": 18,
   "metadata": {},
   "outputs": [
    {
     "name": "stdout",
     "output_type": "stream",
     "text": [
      "non\n",
      "non\n"
     ]
    },
    {
     "data": {
      "text/plain": [
       "'true'"
      ]
     },
     "execution_count": 18,
     "metadata": {},
     "output_type": "execute_result"
    }
   ],
   "source": [
    "\n",
    "\n",
    "def youssef (n):\n",
    " \n",
    "    n=[1,8]\n",
    "\n",
    "    k=[0,8,1,9]\n",
    "       \n",
    "    for i in n:\n",
    "            \n",
    "        for j in k:\n",
    "            \n",
    "               \n",
    "            if i == j:\n",
    "            \n",
    "              return('true')\n",
    "            \n",
    "            \n",
    "            else:\n",
    "                    \n",
    "                print('non')           \n",
    "        \n",
    "youssef(9)    \n",
    "        \n",
    "    \n"
   ]
  },
  {
   "cell_type": "markdown",
   "metadata": {},
   "source": [
    "### Write a Python function to calculate the factorial of a number (a non-negative integer). The function accepts the number from the user"
   ]
  },
  {
   "cell_type": "code",
   "execution_count": null,
   "metadata": {},
   "outputs": [],
   "source": [
    "x=int(input(\"enter the number\"))\n",
    "\n",
    "\n",
    "\n",
    "\n",
    "def factorial():\n",
    "    \n",
    "    \n",
    "    y=1\n",
    "    \n",
    "    \n",
    "   \n",
    "    \n",
    "   \n",
    "        \n",
    "        \n",
    "        \n",
    "    \n",
    "    \n",
    "    if x == 1 :\n",
    "        \n",
    "            \n",
    "            \n",
    "        print(\"the factorial is :\",x)\n",
    "   \n",
    "    elif  x == 0:\n",
    "        \n",
    "        print(\"the factorial is :\",x)\n",
    "            \n",
    "    elif x < 0:\n",
    "            \n",
    "        print(\"sorry there is not factorial for nagative number\")\n",
    "            \n",
    "            \n",
    "            \n",
    "    else :\n",
    "        \n",
    "        \n",
    "            \n",
    "            \n",
    "            \n",
    "        for i in range(1,x+1):\n",
    "            \n",
    "            \n",
    "            \n",
    "            \n",
    "            \n",
    "            \n",
    "           \n",
    "            y = y * i\n",
    "        \n",
    "                   \n",
    "            \n",
    "            \n",
    "                \n",
    "                \n",
    "                    \n",
    "           \n",
    "            \n",
    "        print(\"the factorial of\",x,\"is\",y)\n",
    "          \n",
    "        \n",
    "        \n",
    "        \n",
    "\n",
    "    \n",
    "    \n",
    "    \n",
    "factorial()   "
   ]
  },
  {
   "cell_type": "markdown",
   "metadata": {},
   "source": [
    "### Write a Python function to check whether a number is in a given range.\n",
    "\n",
    "### The range is from 3 to 11\n"
   ]
  },
  {
   "cell_type": "code",
   "execution_count": 1,
   "metadata": {},
   "outputs": [
    {
     "name": "stdout",
     "output_type": "stream",
     "text": [
      "please enter x=1\n",
      "this number is not in range\n"
     ]
    }
   ],
   "source": [
    "\n",
    "x = int(input(\"please enter x=\"))\n",
    "\n",
    "\n",
    "def check(x):\n",
    "    \n",
    "    \n",
    "        \n",
    "        \n",
    "    \n",
    "    \n",
    "    \n",
    "    if x in range(3,11) :\n",
    "        \n",
    "        \n",
    "            \n",
    "            \n",
    "            \n",
    "            \n",
    "            \n",
    "        \n",
    "        \n",
    "        \n",
    "        print(\"this number is in range\")\n",
    "            \n",
    "    else:\n",
    "        \n",
    "        \n",
    "            \n",
    "            \n",
    "        \n",
    "        \n",
    "        print(\"this number is not in range\")\n",
    "        \n",
    "        \n",
    "check(x)            "
   ]
  },
  {
   "cell_type": "code",
   "execution_count": null,
   "metadata": {},
   "outputs": [],
   "source": []
  },
  {
   "cell_type": "markdown",
   "metadata": {},
   "source": [
    "### Write a  program to create the multiplication table (from 1 to 10) of a number."
   ]
  },
  {
   "cell_type": "code",
   "execution_count": 17,
   "metadata": {},
   "outputs": [
    {
     "name": "stdout",
     "output_type": "stream",
     "text": [
      "please enter p=6\n",
      "6\n",
      "12\n",
      "18\n",
      "24\n",
      "30\n",
      "36\n",
      "42\n",
      "48\n",
      "54\n",
      "60\n"
     ]
    }
   ],
   "source": [
    "p =int(input(\"please enter p=\"))\n",
    "def mul(p):\n",
    "    \n",
    "    \n",
    "    for i in range(1,11):\n",
    "        \n",
    "        \n",
    "        print(p * i)\n",
    "    \n",
    "mul(p)"
   ]
  },
  {
   "cell_type": "code",
   "execution_count": null,
   "metadata": {},
   "outputs": [],
   "source": []
  },
  {
   "cell_type": "markdown",
   "metadata": {},
   "source": [
    "#### LESSER OF TWO EVENS: Write a function that returns the lesser of two given numbers *if* both numbers are even, but returns the greater if one or both numbers are odd\n",
    "    lesser_of_two_evens(2,4) --> 2\n",
    "    lesser_of_two_evens(2,5) --> 5"
   ]
  },
  {
   "cell_type": "code",
   "execution_count": 22,
   "metadata": {},
   "outputs": [
    {
     "name": "stdout",
     "output_type": "stream",
     "text": [
      "2\n"
     ]
    }
   ],
   "source": [
    "def lesser(x,y):\n",
    "    if x % 2 == 0 and y % 2 == 0:\n",
    "        print(min(x,y))\n",
    "    else:\n",
    "        print(max(x,y))\n",
    "        \n",
    "lesser(2,4)\n",
    "         "
   ]
  },
  {
   "cell_type": "markdown",
   "metadata": {},
   "source": [
    "#### ANIMAL CRACKERS: Write a function takes a two-word string and returns True if both words begin with same letter\n",
    "    animal_crackers('Levelheaded Llama') --> True\n",
    "    animal_crackers('Crazy Kangaroo') --> False"
   ]
  },
  {
   "cell_type": "code",
   "execution_count": 6,
   "metadata": {},
   "outputs": [
    {
     "name": "stdout",
     "output_type": "stream",
     "text": [
      "  first word is :ahmed\n",
      "second word is :youssef\n",
      "false\n"
     ]
    }
   ],
   "source": [
    "x=input(\"  first word is :\")\n",
    "y=input(\"second word is :\")\n",
    "def fuc(x,y):\n",
    "    if x[0] == y[0]:\n",
    "        print(\"true\")\n",
    "    else:\n",
    "        print(\"false\")\n",
    "        \n",
    "fuc(x,y)"
   ]
  },
  {
   "cell_type": "markdown",
   "metadata": {},
   "source": [
    "#### MAKES TWENTY: Given two integers, return True if the sum of the integers is 20 *or* if one of the integers is 20. If not, return False\n",
    "\n",
    "    makes_twenty(20,10) --> True\n",
    "    makes_twenty(12,8) --> True\n",
    "    makes_twenty(2,3) --> False"
   ]
  },
  {
   "cell_type": "code",
   "execution_count": 13,
   "metadata": {},
   "outputs": [
    {
     "name": "stdout",
     "output_type": "stream",
     "text": [
      "false\n"
     ]
    }
   ],
   "source": [
    "#x= int(input(\"first nember is :\"))\n",
    "#y=int(input(\"second number is :\"))\n",
    "def make(x,y):\n",
    "    if x == 20 or y == 20:\n",
    "        \n",
    "        print(\"true\")\n",
    "    elif x  + y == 20:\n",
    "        \n",
    "        print(\"true\")\n",
    "        \n",
    "    else:\n",
    "        print(\"false\")\n",
    "        \n",
    "make(2,14)"
   ]
  },
  {
   "cell_type": "markdown",
   "metadata": {},
   "source": [
    "#### ALMOST THERE: Given an integer n, return True if n is within 10 of either 100 or 200\n",
    "\n",
    "    almost_there(90) --> True\n",
    "    almost_there(104) --> True\n",
    "    almost_there(150) --> False\n",
    "    almost_there(209) --> True\n",
    "    \n",
    "NOTE: `abs(num)` returns the absolute value of a number"
   ]
  },
  {
   "cell_type": "code",
   "execution_count": 19,
   "metadata": {},
   "outputs": [
    {
     "name": "stdout",
     "output_type": "stream",
     "text": [
      "number is :109\n",
      "true\n"
     ]
    }
   ],
   "source": [
    "x = int(input(\"number is :\"))\n",
    "def almost(x):\n",
    "    if x >= 90 and x<=110:\n",
    "        print(\"true\")\n",
    "    elif x>=190 and x<=210:\n",
    "        print(\"true\")\n",
    "        \n",
    "    else:\n",
    "        print(\"false\")\n",
    "        \n",
    "almost(x)"
   ]
  },
  {
   "cell_type": "markdown",
   "metadata": {},
   "source": [
    "#### BLACKJACK: Given three integers between 1 and 11, if their sum is less than or equal to 21, return their sum. If their sum exceeds 21 *and* there's an eleven, reduce the total sum by 10. Finally, if the sum  exceeds 21, return 'BUST'\n",
    "    blackjack(5,6,7) --> 18\n",
    "    blackjack(9,9,9) --> 'BUST'\n",
    "    blackjack(9,9,11) --> 19"
   ]
  },
  {
   "cell_type": "code",
   "execution_count": 11,
   "metadata": {},
   "outputs": [
    {
     "name": "stdout",
     "output_type": "stream",
     "text": [
      "18\n"
     ]
    }
   ],
   "source": [
    "def black(x,y,z):\n",
    "    if (x + y + z ) <= 21:\n",
    "        \n",
    "        print(x+y+z)\n",
    "        \n",
    "    elif x + y > 10 and z==11:\n",
    "        \n",
    "        print((x+y+z) -10 ) \n",
    "        \n",
    "        \n",
    "        \n",
    "        \n",
    "    else :\n",
    "        \n",
    "        return ('BUST')\n",
    "        \n",
    "        \n",
    "        \n",
    "              \n",
    "        \n",
    "   \n",
    "        \n",
    "   \n",
    "        \n",
    "black(5,6,7)\n",
    "    \n",
    "        \n",
    "        "
   ]
  },
  {
   "cell_type": "code",
   "execution_count": null,
   "metadata": {},
   "outputs": [],
   "source": []
  },
  {
   "cell_type": "code",
   "execution_count": null,
   "metadata": {},
   "outputs": [],
   "source": []
  }
 ],
 "metadata": {
  "kernelspec": {
   "display_name": "Python 3 (ipykernel)",
   "language": "python",
   "name": "python3"
  },
  "language_info": {
   "codemirror_mode": {
    "name": "ipython",
    "version": 3
   },
   "file_extension": ".py",
   "mimetype": "text/x-python",
   "name": "python",
   "nbconvert_exporter": "python",
   "pygments_lexer": "ipython3",
   "version": "3.9.12"
  }
 },
 "nbformat": 4,
 "nbformat_minor": 2
}
